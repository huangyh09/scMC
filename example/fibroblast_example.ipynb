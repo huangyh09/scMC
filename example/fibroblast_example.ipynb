{
 "cells": [
  {
   "cell_type": "markdown",
   "metadata": {},
   "source": [
    "# Example in fibroblast sample"
   ]
  },
  {
   "cell_type": "markdown",
   "metadata": {},
   "source": [
    "This example dataset is from the [cadelino paper](https://www.biorxiv.org/content/early/2018/11/26/413047) and included the [cardelino R package](https://github.com/PMBio/cardelino), and also in the fibroblast folder here.\n",
    "\n",
    "```{r}\n",
    "library(cardelino)\n",
    "data(\"example_donor\")\n",
    "```\n",
    "\n",
    "The single-cell RNA-seq data is highly sparse, and an implementation supporting sparse matrix largely reduce computation resources."
   ]
  },
  {
   "cell_type": "markdown",
   "metadata": {},
   "source": [
    "## Load data"
   ]
  },
  {
   "cell_type": "code",
   "execution_count": 2,
   "metadata": {},
   "outputs": [],
   "source": [
    "import numpy as np\n",
    "import matplotlib.pyplot as plt\n",
    "\n",
    "import sys\n",
    "sys.path.append(\"..\")\n",
    "from scmc.models.scmc_model import scmc, generate_reads, sample_Sigma"
   ]
  },
  {
   "cell_type": "code",
   "execution_count": 59,
   "metadata": {},
   "outputs": [
    {
     "data": {
      "text/plain": [
       "<34x428 sparse matrix of type '<class 'numpy.int64'>'\n",
       "\twith 581 stored elements in Compressed Sparse Row format>"
      ]
     },
     "execution_count": 59,
     "metadata": {},
     "output_type": "execute_result"
    }
   ],
   "source": [
    "from scipy.io import mmread\n",
    "from scipy.sparse import csr_matrix\n",
    "\n",
    "Config = np.genfromtxt(\"fibroblast/SNV_clone_id.tsv\", skip_header=1)\n",
    "\n",
    "A_input = mmread(\"fibroblast/A_snv.mtx\")\n",
    "A_input = csr_matrix(A_input)\n",
    "\n",
    "D_input = mmread(\"fibroblast/A_snv.mtx\")\n",
    "D_input = csr_matrix(D_input)\n",
    "\n",
    "A_input\n",
    "D_input"
   ]
  },
  {
   "cell_type": "code",
   "execution_count": 92,
   "metadata": {},
   "outputs": [
    {
     "name": "stdout",
     "output_type": "stream",
     "text": [
      "0.0399257833975 0.0399257833975\n"
     ]
    }
   ],
   "source": [
    "A = A_input.toarray()\n",
    "D = D_input.toarray()\n",
    "print(np.mean(A > 0), np.mean(D > 0))"
   ]
  },
  {
   "cell_type": "code",
   "execution_count": 49,
   "metadata": {},
   "outputs": [
    {
     "data": {
      "text/plain": [
       "array([[0, 0, 0, ..., 0, 0, 0],\n",
       "       [0, 0, 0, ..., 0, 0, 0],\n",
       "       [0, 0, 0, ..., 0, 0, 0],\n",
       "       ..., \n",
       "       [0, 0, 0, ..., 0, 0, 0],\n",
       "       [0, 0, 0, ..., 0, 0, 0],\n",
       "       [0, 0, 0, ..., 0, 0, 0]], dtype=int64)"
      ]
     },
     "execution_count": 49,
     "metadata": {},
     "output_type": "execute_result"
    }
   ],
   "source": [
    "A"
   ]
  },
  {
   "cell_type": "markdown",
   "metadata": {},
   "source": [
    "## Running scmc"
   ]
  },
  {
   "cell_type": "code",
   "execution_count": 45,
   "metadata": {},
   "outputs": [],
   "source": [
    "d, n = A_input.shape # n_SNV and n_cells\n",
    "\n",
    "# inverse Wishart prior\n",
    "Lambda = np.eye(d) * 5 # scale matrix \n",
    "v = d # degrees of freedom\n",
    "\n",
    "# beta prior\n",
    "alpha = 3 * np.ones(d+1)\n",
    "beta = 3 * np.ones(d+1)\n",
    "alpha[0] = 0.3\n",
    "beta[0] = 29.7"
   ]
  },
  {
   "cell_type": "code",
   "execution_count": 46,
   "metadata": {},
   "outputs": [
    {
     "data": {
      "text/plain": [
       "array([ 0.01,  0.5 ,  0.5 ,  0.5 ,  0.5 ,  0.5 ,  0.5 ,  0.5 ,  0.5 ,\n",
       "        0.5 ,  0.5 ,  0.5 ,  0.5 ,  0.5 ,  0.5 ,  0.5 ,  0.5 ,  0.5 ,\n",
       "        0.5 ,  0.5 ,  0.5 ,  0.5 ,  0.5 ,  0.5 ,  0.5 ,  0.5 ,  0.5 ,\n",
       "        0.5 ,  0.5 ,  0.5 ,  0.5 ,  0.5 ,  0.5 ,  0.5 ,  0.5 ])"
      ]
     },
     "execution_count": 46,
     "metadata": {},
     "output_type": "execute_result"
    }
   ],
   "source": [
    "alpha / (alpha + beta)"
   ]
  },
  {
   "cell_type": "code",
   "execution_count": 50,
   "metadata": {},
   "outputs": [
    {
     "name": "stdout",
     "output_type": "stream",
     "text": [
      "100\n",
      "200\n",
      "300\n",
      "400\n",
      "500\n",
      "600\n",
      "700\n",
      "800\n",
      "900\n"
     ]
    }
   ],
   "source": [
    "[theta_hat, Sigma_hat, X_hat] = scmc(A, D, Lambda, v, alpha, beta, max_iter=1000)"
   ]
  },
  {
   "cell_type": "markdown",
   "metadata": {},
   "source": [
    "## Visualise covariance matrix\n",
    "Group of SNVs have been observed, but seems not matched well with the clonal structure inferred from exome-seq by Canopy"
   ]
  },
  {
   "cell_type": "code",
   "execution_count": 64,
   "metadata": {},
   "outputs": [
    {
     "data": {
      "image/png": "[encoded data removed]",
      "text/plain": [
       "<Figure size 720x720 with 4 Axes>"
      ]
     },
     "metadata": {},
     "output_type": "display_data"
    }
   ],
   "source": [
    "import seaborn as sns; sns.set(color_codes=True)\n",
    "g = sns.clustermap(Sigma_hat)\n",
    "plt.show()"
   ]
  },
  {
   "cell_type": "code",
   "execution_count": 101,
   "metadata": {},
   "outputs": [
    {
     "name": "stdout",
     "output_type": "stream",
     "text": [
      "M1: [18 32  0  4 15 10  1 30  6 21 26]\n",
      "M2: [16 19 23 33]\n",
      "M3: [28 20  8 13 31 27 11 22 24 25  7  3]\n",
      "M4: [ 5 17 29 12  9]\n",
      "M5: [14  2]\n"
     ]
    }
   ],
   "source": [
    "print(\"M1:\", snv_order[snv_clone_id==2])\n",
    "print(\"M2:\", snv_order[snv_clone_id==4])\n",
    "print(\"M3:\", snv_order[snv_clone_id==8])\n",
    "print(\"M4:\", snv_order[snv_clone_id==12])\n",
    "print(\"M5:\", snv_order[snv_clone_id==14])"
   ]
  },
  {
   "cell_type": "markdown",
   "metadata": {},
   "source": [
    "## Ordered by clonal structure infered by Canopy\n",
    "The pattern is not clearly overlapped with the clonal structure, although the ordering of SNV in each mutation can be optimised."
   ]
  },
  {
   "cell_type": "code",
   "execution_count": 97,
   "metadata": {},
   "outputs": [
    {
     "data": {
      "image/png": "[encoded data removed]",
      "text/plain": [
       "<Figure size 432x288 with 2 Axes>"
      ]
     },
     "metadata": {},
     "output_type": "display_data"
    }
   ],
   "source": [
    "snv_clone_id = np.dot(Config, [1, 2, 4, 8])\n",
    "snv_order = np.argsort(snv_clone_id)\n",
    "\n",
    "snv_id = np.array([0] * 34)\n",
    "snv_id[snv_clone_id == 2] = 1\n",
    "snv_id[snv_clone_id == 4] = 2\n",
    "snv_id[snv_clone_id == 8] = 3\n",
    "snv_id[snv_clone_id == 12] = 4\n",
    "snv_id[snv_clone_id == 14] = 5\n",
    "\n",
    "g = sns.heatmap(Sigma_hat[snv_order, :][:, snv_order])\n",
    "plt.xticks(np.arange(0, 34, 2), snv_id[snv_order][np.arange(0, 34, 2)])\n",
    "plt.yticks(np.arange(0, 34, 2), snv_id[snv_order][np.arange(0, 34, 2)])\n",
    "plt.xlabel(\"Mutation group for each SNV\")\n",
    "plt.ylabel(\"Mutation group for each SNV\")\n",
    "plt.show()"
   ]
  },
  {
   "cell_type": "code",
   "execution_count": null,
   "metadata": {},
   "outputs": [],
   "source": []
  }
 ],
 "metadata": {
  "kernelspec": {
   "display_name": "Python 3",
   "language": "python",
   "name": "python3"
  },
  "language_info": {
   "codemirror_mode": {
    "name": "ipython",
    "version": 3
   },
   "file_extension": ".py",
   "mimetype": "text/x-python",
   "name": "python",
   "nbconvert_exporter": "python",
   "pygments_lexer": "ipython3",
   "version": "3.6.3"
  }
 },
 "nbformat": 4,
 "nbformat_minor": 2
}
