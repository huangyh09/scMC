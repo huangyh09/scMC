{
 "cells": [
  {
   "cell_type": "markdown",
   "metadata": {},
   "source": [
    "# scMC Example"
   ]
  },
  {
   "cell_type": "code",
   "execution_count": 1,
   "metadata": {},
   "outputs": [],
   "source": [
    "import scipy.stats\n",
    "import numpy as np\n",
    "import sys\n",
    "import matplotlib.pyplot as plt\n",
    "\n",
    "sys.path.append(\"..\")\n",
    "from scmc.models.scmc_model import scmc, generate_reads, sample_Sigma"
   ]
  },
  {
   "cell_type": "markdown",
   "metadata": {},
   "source": [
    "## Set prior parameters"
   ]
  },
  {
   "cell_type": "code",
   "execution_count": 2,
   "metadata": {},
   "outputs": [
    {
     "data": {
      "image/png": "[encoded data removed]",
      "text/plain": [
       "<Figure size 1120x1120 with 1 Axes>"
      ]
     },
     "metadata": {},
     "output_type": "display_data"
    }
   ],
   "source": [
    "n = 50 # number of cells\n",
    "d = 5 # number of genomic positions\n",
    "\n",
    "# inverse Wishart prior\n",
    "Lambda = np.eye(d) * 5 # scale matrix \n",
    "v = d # degrees of freedom\n",
    "\n",
    "# beta prior\n",
    "alpha = 2 * np.ones(d+1)\n",
    "beta = 2 * np.ones(d+1)\n",
    "beta[1] = 1\n",
    "beta[0] = 50\n",
    "\n",
    "# coverage parameters\n",
    "dropout_prob = 0.5\n",
    "poisson_mean = 20\n",
    "\n",
    "# genotype matrix\n",
    "U = np.zeros([d, n])\n",
    "U[0:2, :] = 1 # germline\n",
    "U[2, 0:(3*n//4)] = 1 \n",
    "U[3, (3*n//4):n] = 1 \n",
    "U[4, 0:(n//2)] = 1 \n",
    "\n",
    "fig=plt.figure(figsize=(14, 14), dpi= 80, facecolor='w', edgecolor='k')\n",
    "p1 = plt.imshow(U, interpolation='nearest', cmap=plt.cm.afmhot_r)"
   ]
  },
  {
   "cell_type": "markdown",
   "metadata": {},
   "source": [
    "## Generate data"
   ]
  },
  {
   "cell_type": "code",
   "execution_count": 3,
   "metadata": {},
   "outputs": [],
   "source": [
    "# sample coverage at each genomic position\n",
    "D = scipy.stats.bernoulli.rvs(1 - dropout_prob, size=[d,n]) \n",
    "D = D * scipy.stats.poisson.rvs(poisson_mean, size=[d,n])\n",
    "\n",
    "# sample theta from prior\n",
    "theta = scipy.stats.beta.rvs(a=alpha, b=beta)\n",
    "\n",
    "# generate reads from prior\n",
    "A = generate_reads(U, D, theta)"
   ]
  },
  {
   "cell_type": "markdown",
   "metadata": {},
   "source": [
    "## Run model"
   ]
  },
  {
   "cell_type": "code",
   "execution_count": 4,
   "metadata": {},
   "outputs": [
    {
     "name": "stdout",
     "output_type": "stream",
     "text": [
      "100\n",
      "200\n",
      "300\n",
      "400\n",
      "500\n",
      "600\n",
      "700\n",
      "800\n",
      "900\n"
     ]
    }
   ],
   "source": [
    "[theta_hat, Sigma_hat, X_hat] = scmc(A, D, Lambda, v, alpha, beta, max_iter=1000)"
   ]
  },
  {
   "cell_type": "code",
   "execution_count": 5,
   "metadata": {},
   "outputs": [
    {
     "name": "stdout",
     "output_type": "stream",
     "text": [
      "Genotype error: 0.0520\n",
      "VAF-base error: 0.3400\n",
      "theta    error: 0.0005\n"
     ]
    }
   ],
   "source": [
    "err_x = np.logical_xor(X_hat>0, U>0).mean()\n",
    "err_vaf = np.logical_xor(A/(D + 1e-5) > 0.1, U>0).mean()\n",
    "err_theta = ((theta - theta_hat)**2).mean()\n",
    "print(\"Genotype error: %.4f\" % err_x)\n",
    "print(\"VAF-base error: %.4f\" % err_vaf)\n",
    "print(\"theta    error: %.4f\" % err_theta)"
   ]
  },
  {
   "cell_type": "markdown",
   "metadata": {},
   "source": [
    "## Correlation analysis\n",
    "To see how well we can recover the true correlation structure in our data, we compare\n",
    "- Lambda, the prior parameter for Sigma\n",
    "- Sigma sampled by scMC\n",
    "- Sigma sampled from posterior based on true genotype\n",
    "- Sigma sampled from posterior based on estimated genotype"
   ]
  },
  {
   "cell_type": "code",
   "execution_count": 6,
   "metadata": {},
   "outputs": [
    {
     "data": {
      "image/png": "[encoded data removed]",
      "text/plain": [
       "<Figure size 1120x1120 with 4 Axes>"
      ]
     },
     "metadata": {},
     "output_type": "display_data"
    }
   ],
   "source": [
    "fig = plt.figure(figsize=(14, 14), dpi=80, facecolor='w', edgecolor='k')\n",
    "\n",
    "ax1 = plt.subplot(1, 4, 1)\n",
    "ax1.set_title('Lambda', size=12)\n",
    "p1 = plt.imshow(Lambda, interpolation='nearest', cmap=plt.cm.afmhot_r)\n",
    "\n",
    "ax2 = plt.subplot(1, 4, 2)\n",
    "ax2.set_title('Sigma (scMC)', size=12)\n",
    "p2 = plt.imshow(Sigma_hat, interpolation='nearest', cmap=plt.cm.afmhot_r)\n",
    "\n",
    "ax3 = plt.subplot(1, 4, 3)\n",
    "ax3.set_title('Sigma (true genotype)', size=12)\n",
    "G = U\n",
    "S = sample_Sigma(Lambda=Lambda,X=G,v=v)\n",
    "for i in range(99):\n",
    "    S += sample_Sigma(Lambda=Lambda,X=G,v=v)\n",
    "p3 = plt.imshow(S/100, cmap=plt.cm.afmhot_r, vmin=0, vmax=1.5)\n",
    "\n",
    "ax4 = plt.subplot(1, 4, 4)\n",
    "ax4.set_title('Sigma (est. genotype)', size=12)\n",
    "G = (X_hat > 0).astype(int)\n",
    "S = sample_Sigma(Lambda=Lambda,X=G,v=v)\n",
    "for i in range(99):\n",
    "    S += sample_Sigma(Lambda=Lambda,X=G,v=v)\n",
    "p4 = plt.imshow(S/100, cmap=plt.cm.afmhot_r, vmin=0, vmax=1.5)"
   ]
  }
 ],
 "metadata": {
  "kernelspec": {
   "display_name": "Python 3",
   "language": "python",
   "name": "python3"
  },
  "language_info": {
   "codemirror_mode": {
    "name": "ipython",
    "version": 3
   },
   "file_extension": ".py",
   "mimetype": "text/x-python",
   "name": "python",
   "nbconvert_exporter": "python",
   "pygments_lexer": "ipython3",
   "version": "3.7.1"
  }
 },
 "nbformat": 4,
 "nbformat_minor": 2
}
