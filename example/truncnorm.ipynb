{
 "cells": [
  {
   "cell_type": "markdown",
   "metadata": {},
   "source": [
    "# Comparison of truncated normal implementations."
   ]
  },
  {
   "cell_type": "code",
   "execution_count": 1,
   "metadata": {},
   "outputs": [],
   "source": [
    "import scipy.stats\n",
    "import numpy as np\n",
    "import sys\n",
    "import matplotlib.pylab as plt"
   ]
  },
  {
   "cell_type": "code",
   "execution_count": 2,
   "metadata": {},
   "outputs": [],
   "source": [
    "K = 10000\n",
    "z1 = np.zeros(K)\n",
    "z2 = np.zeros(K)\n",
    "z3 = np.zeros(K)\n",
    "\n",
    "\n",
    "a = -np.inf\n",
    "# b = -10 breaks manual implementation ... \n",
    "b = 0\n",
    "loc = 0\n",
    "scale = 1"
   ]
  },
  {
   "cell_type": "code",
   "execution_count": 3,
   "metadata": {},
   "outputs": [
    {
     "name": "stdout",
     "output_type": "stream",
     "text": [
      "CPU times: user 2.06 s, sys: 44.2 ms, total: 2.1 s\n",
      "Wall time: 2.07 s\n"
     ]
    },
    {
     "data": {
      "image/png": "[encoded data removed]",
      "text/plain": [
       "<Figure size 432x288 with 1 Axes>"
      ]
     },
     "metadata": {
      "needs_background": "light"
     },
     "output_type": "display_data"
    }
   ],
   "source": [
    "%%time\n",
    "for i in range(K):\n",
    "    a_m, b_m = (a - loc) / scale, (b - loc) / scale\n",
    "    u = np.random.uniform(0, 1)\n",
    "    cdf_a = scipy.stats.norm.cdf(-a_m)\n",
    "    cdf_b = scipy.stats.norm.cdf(-b_m)\n",
    "    z = -scipy.stats.norm.ppf(cdf_a - (cdf_a - cdf_b)*u)\n",
    "    z1[i] = z*scale+loc\n",
    "x = plt.hist(z1, bins=50)"
   ]
  },
  {
   "cell_type": "code",
   "execution_count": 4,
   "metadata": {},
   "outputs": [
    {
     "name": "stdout",
     "output_type": "stream",
     "text": [
      "CPU times: user 682 ms, sys: 39.2 ms, total: 721 ms\n",
      "Wall time: 691 ms\n"
     ]
    },
    {
     "data": {
      "image/png": "[encoded data removed]",
      "text/plain": [
       "<Figure size 432x288 with 1 Axes>"
      ]
     },
     "metadata": {
      "needs_background": "light"
     },
     "output_type": "display_data"
    }
   ],
   "source": [
    "%%time\n",
    "for i in range(K):\n",
    "    a_m, b_m = (a - loc) / scale, (b - loc) / scale\n",
    "    z2[i] = scipy.stats.truncnorm.rvs(a=a_m, b=b_m, scale=scale, loc=loc)\n",
    "x = plt.hist(z2, bins=50)"
   ]
  }
 ],
 "metadata": {
  "kernelspec": {
   "display_name": "Python 3",
   "language": "python",
   "name": "python3"
  },
  "language_info": {
   "codemirror_mode": {
    "name": "ipython",
    "version": 3
   },
   "file_extension": ".py",
   "mimetype": "text/x-python",
   "name": "python",
   "nbconvert_exporter": "python",
   "pygments_lexer": "ipython3",
   "version": "3.7.1"
  }
 },
 "nbformat": 4,
 "nbformat_minor": 2
}
